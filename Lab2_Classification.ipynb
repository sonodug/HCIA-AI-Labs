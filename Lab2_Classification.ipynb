{
  "nbformat": 4,
  "nbformat_minor": 0,
  "metadata": {
    "colab": {
      "provenance": []
    },
    "kernelspec": {
      "name": "python3",
      "display_name": "Python 3"
    },
    "language_info": {
      "name": "python"
    }
  },
  "cells": [
    {
      "cell_type": "code",
      "execution_count": null,
      "metadata": {
        "id": "zMW_74UlN-vv"
      },
      "outputs": [],
      "source": [
        "import numpy as np\n",
        "import pandas as pd\n",
        "import matplotlib.pyplot as plt\n",
        "\n",
        "plt.style.use('ggplot')\n",
        "plt.rcParams['figure.figsize'] = (10, 7.5)\n",
        "\n",
        "import sklearn\n",
        "import sklearn.datasets as datasets\n",
        "from sklearn.model_selection import train_test_split, GridSearchCV\n",
        "from sklearn.metrics import f1_score, classification_report, confusion_matrix"
      ]
    },
    {
      "cell_type": "code",
      "source": [
        "data_home = datasets.fetch_openml(name='credit-g')"
      ],
      "metadata": {
        "colab": {
          "base_uri": "https://localhost:8080/"
        },
        "id": "tdlmXHUOqwSI",
        "outputId": "a46fae93-f596-4c51-b7d1-6f130f5078d9"
      },
      "execution_count": null,
      "outputs": [
        {
          "output_type": "stream",
          "name": "stderr",
          "text": [
            "/usr/local/lib/python3.7/dist-packages/sklearn/datasets/_openml.py:421: UserWarning: Multiple active versions of the dataset matching the name credit-g exist. Versions may be fundamentally different, returning version 1.\n",
            "  \" {version}.\".format(name=name, version=res[0][\"version\"])\n"
          ]
        }
      ]
    },
    {
      "cell_type": "code",
      "source": [
        "data_home"
      ],
      "metadata": {
        "colab": {
          "base_uri": "https://localhost:8080/"
        },
        "id": "ZoJ44CCMrTmP",
        "outputId": "c3c79e78-759d-4b6a-d8c6-409cd9a95d72"
      },
      "execution_count": null,
      "outputs": [
        {
          "output_type": "execute_result",
          "data": {
            "text/plain": [
              "{'data':     checking_status  duration                  credit_history  \\\n",
              " 0                <0       6.0  critical/other existing credit   \n",
              " 1          0<=X<200      48.0                   existing paid   \n",
              " 2       no checking      12.0  critical/other existing credit   \n",
              " 3                <0      42.0                   existing paid   \n",
              " 4                <0      24.0              delayed previously   \n",
              " ..              ...       ...                             ...   \n",
              " 995     no checking      12.0                   existing paid   \n",
              " 996              <0      30.0                   existing paid   \n",
              " 997     no checking      12.0                   existing paid   \n",
              " 998              <0      45.0                   existing paid   \n",
              " 999        0<=X<200      45.0  critical/other existing credit   \n",
              " \n",
              "                  purpose  credit_amount    savings_status  employment  \\\n",
              " 0               radio/tv         1169.0  no known savings         >=7   \n",
              " 1               radio/tv         5951.0              <100      1<=X<4   \n",
              " 2              education         2096.0              <100      4<=X<7   \n",
              " 3    furniture/equipment         7882.0              <100      4<=X<7   \n",
              " 4                new car         4870.0              <100      1<=X<4   \n",
              " ..                   ...            ...               ...         ...   \n",
              " 995  furniture/equipment         1736.0              <100      4<=X<7   \n",
              " 996             used car         3857.0              <100      1<=X<4   \n",
              " 997             radio/tv          804.0              <100         >=7   \n",
              " 998             radio/tv         1845.0              <100      1<=X<4   \n",
              " 999             used car         4576.0        100<=X<500  unemployed   \n",
              " \n",
              "      installment_commitment     personal_status other_parties  \\\n",
              " 0                       4.0         male single          none   \n",
              " 1                       2.0  female div/dep/mar          none   \n",
              " 2                       2.0         male single          none   \n",
              " 3                       2.0         male single     guarantor   \n",
              " 4                       3.0         male single          none   \n",
              " ..                      ...                 ...           ...   \n",
              " 995                     3.0  female div/dep/mar          none   \n",
              " 996                     4.0        male div/sep          none   \n",
              " 997                     4.0         male single          none   \n",
              " 998                     4.0         male single          none   \n",
              " 999                     3.0         male single          none   \n",
              " \n",
              "      residence_since property_magnitude   age other_payment_plans   housing  \\\n",
              " 0                4.0        real estate  67.0                none       own   \n",
              " 1                2.0        real estate  22.0                none       own   \n",
              " 2                3.0        real estate  49.0                none       own   \n",
              " 3                4.0     life insurance  45.0                none  for free   \n",
              " 4                4.0  no known property  53.0                none  for free   \n",
              " ..               ...                ...   ...                 ...       ...   \n",
              " 995              4.0        real estate  31.0                none       own   \n",
              " 996              4.0     life insurance  40.0                none       own   \n",
              " 997              4.0                car  38.0                none       own   \n",
              " 998              4.0  no known property  23.0                none  for free   \n",
              " 999              4.0                car  27.0                none       own   \n",
              " \n",
              "      existing_credits                        job  num_dependents  \\\n",
              " 0                 2.0                    skilled             1.0   \n",
              " 1                 1.0                    skilled             1.0   \n",
              " 2                 1.0         unskilled resident             2.0   \n",
              " 3                 1.0                    skilled             2.0   \n",
              " 4                 2.0                    skilled             2.0   \n",
              " ..                ...                        ...             ...   \n",
              " 995               1.0         unskilled resident             1.0   \n",
              " 996               1.0  high qualif/self emp/mgmt             1.0   \n",
              " 997               1.0                    skilled             1.0   \n",
              " 998               1.0                    skilled             1.0   \n",
              " 999               1.0                    skilled             1.0   \n",
              " \n",
              "     own_telephone foreign_worker  \n",
              " 0             yes            yes  \n",
              " 1            none            yes  \n",
              " 2            none            yes  \n",
              " 3            none            yes  \n",
              " 4            none            yes  \n",
              " ..            ...            ...  \n",
              " 995          none            yes  \n",
              " 996           yes            yes  \n",
              " 997          none            yes  \n",
              " 998           yes            yes  \n",
              " 999          none            yes  \n",
              " \n",
              " [1000 rows x 20 columns], 'target': 0      good\n",
              " 1       bad\n",
              " 2      good\n",
              " 3      good\n",
              " 4       bad\n",
              "        ... \n",
              " 995    good\n",
              " 996    good\n",
              " 997    good\n",
              " 998     bad\n",
              " 999    good\n",
              " Name: class, Length: 1000, dtype: category\n",
              " Categories (2, object): ['good', 'bad'], 'frame':     checking_status  duration                  credit_history  \\\n",
              " 0                <0       6.0  critical/other existing credit   \n",
              " 1          0<=X<200      48.0                   existing paid   \n",
              " 2       no checking      12.0  critical/other existing credit   \n",
              " 3                <0      42.0                   existing paid   \n",
              " 4                <0      24.0              delayed previously   \n",
              " ..              ...       ...                             ...   \n",
              " 995     no checking      12.0                   existing paid   \n",
              " 996              <0      30.0                   existing paid   \n",
              " 997     no checking      12.0                   existing paid   \n",
              " 998              <0      45.0                   existing paid   \n",
              " 999        0<=X<200      45.0  critical/other existing credit   \n",
              " \n",
              "                  purpose  credit_amount    savings_status  employment  \\\n",
              " 0               radio/tv         1169.0  no known savings         >=7   \n",
              " 1               radio/tv         5951.0              <100      1<=X<4   \n",
              " 2              education         2096.0              <100      4<=X<7   \n",
              " 3    furniture/equipment         7882.0              <100      4<=X<7   \n",
              " 4                new car         4870.0              <100      1<=X<4   \n",
              " ..                   ...            ...               ...         ...   \n",
              " 995  furniture/equipment         1736.0              <100      4<=X<7   \n",
              " 996             used car         3857.0              <100      1<=X<4   \n",
              " 997             radio/tv          804.0              <100         >=7   \n",
              " 998             radio/tv         1845.0              <100      1<=X<4   \n",
              " 999             used car         4576.0        100<=X<500  unemployed   \n",
              " \n",
              "      installment_commitment     personal_status other_parties  ...  \\\n",
              " 0                       4.0         male single          none  ...   \n",
              " 1                       2.0  female div/dep/mar          none  ...   \n",
              " 2                       2.0         male single          none  ...   \n",
              " 3                       2.0         male single     guarantor  ...   \n",
              " 4                       3.0         male single          none  ...   \n",
              " ..                      ...                 ...           ...  ...   \n",
              " 995                     3.0  female div/dep/mar          none  ...   \n",
              " 996                     4.0        male div/sep          none  ...   \n",
              " 997                     4.0         male single          none  ...   \n",
              " 998                     4.0         male single          none  ...   \n",
              " 999                     3.0         male single          none  ...   \n",
              " \n",
              "      property_magnitude   age  other_payment_plans   housing existing_credits  \\\n",
              " 0           real estate  67.0                 none       own              2.0   \n",
              " 1           real estate  22.0                 none       own              1.0   \n",
              " 2           real estate  49.0                 none       own              1.0   \n",
              " 3        life insurance  45.0                 none  for free              1.0   \n",
              " 4     no known property  53.0                 none  for free              2.0   \n",
              " ..                  ...   ...                  ...       ...              ...   \n",
              " 995         real estate  31.0                 none       own              1.0   \n",
              " 996      life insurance  40.0                 none       own              1.0   \n",
              " 997                 car  38.0                 none       own              1.0   \n",
              " 998   no known property  23.0                 none  for free              1.0   \n",
              " 999                 car  27.0                 none       own              1.0   \n",
              " \n",
              "                            job num_dependents  own_telephone foreign_worker  \\\n",
              " 0                      skilled            1.0            yes            yes   \n",
              " 1                      skilled            1.0           none            yes   \n",
              " 2           unskilled resident            2.0           none            yes   \n",
              " 3                      skilled            2.0           none            yes   \n",
              " 4                      skilled            2.0           none            yes   \n",
              " ..                         ...            ...            ...            ...   \n",
              " 995         unskilled resident            1.0           none            yes   \n",
              " 996  high qualif/self emp/mgmt            1.0            yes            yes   \n",
              " 997                    skilled            1.0           none            yes   \n",
              " 998                    skilled            1.0            yes            yes   \n",
              " 999                    skilled            1.0           none            yes   \n",
              " \n",
              "     class  \n",
              " 0    good  \n",
              " 1     bad  \n",
              " 2    good  \n",
              " 3    good  \n",
              " 4     bad  \n",
              " ..    ...  \n",
              " 995  good  \n",
              " 996  good  \n",
              " 997  good  \n",
              " 998   bad  \n",
              " 999  good  \n",
              " \n",
              " [1000 rows x 21 columns], 'categories': None, 'feature_names': ['checking_status',\n",
              "  'duration',\n",
              "  'credit_history',\n",
              "  'purpose',\n",
              "  'credit_amount',\n",
              "  'savings_status',\n",
              "  'employment',\n",
              "  'installment_commitment',\n",
              "  'personal_status',\n",
              "  'other_parties',\n",
              "  'residence_since',\n",
              "  'property_magnitude',\n",
              "  'age',\n",
              "  'other_payment_plans',\n",
              "  'housing',\n",
              "  'existing_credits',\n",
              "  'job',\n",
              "  'num_dependents',\n",
              "  'own_telephone',\n",
              "  'foreign_worker'], 'target_names': ['class'], 'DESCR': '**Author**: Dr. Hans Hofmann  \\n**Source**: [UCI](https://archive.ics.uci.edu/ml/datasets/statlog+(german+credit+data)) - 1994    \\n**Please cite**: [UCI](https://archive.ics.uci.edu/ml/citation_policy.html)\\n\\n**German Credit dataset**  \\nThis dataset classifies people described by a set of attributes as good or bad credit risks.\\n\\nThis dataset comes with a cost matrix: \\n``` \\nGood  Bad (predicted)  \\nGood   0    1   (actual)  \\nBad    5    0  \\n```\\n\\nIt is worse to class a customer as good when they are bad (5), than it is to class a customer as bad when they are good (1).  \\n\\n### Attribute description  \\n\\n1. Status of the existing checking account, in Deutsche Mark.  \\n2. Duration in months  \\n3. Credit history (credits taken, paid back duly, delays, critical accounts)  \\n4. Purpose of the credit (car, television,...)  \\n5. Credit amount  \\n6. Status of savings account/bonds, in Deutsche Mark.  \\n7. Present employment, in number of years.  \\n8. Installment rate in percentage of disposable income  \\n9. Personal status (married, single,...) and sex  \\n10. Other debtors / guarantors  \\n11. Present residence since X years  \\n12. Property (e.g. real estate)  \\n13. Age in years  \\n14. Other installment plans (banks, stores)  \\n15. Housing (rent, own,...)  \\n16. Number of existing credits at this bank  \\n17. Job  \\n18. Number of people being liable to provide maintenance for  \\n19. Telephone (yes,no)  \\n20. Foreign worker (yes,no)\\n\\nDownloaded from openml.org.', 'details': {'id': '31',\n",
              "  'name': 'credit-g',\n",
              "  'version': '1',\n",
              "  'description_version': '5',\n",
              "  'format': 'ARFF',\n",
              "  'creator': 'Dr. Hans Hofmann',\n",
              "  'collection_date': '1994-11-17',\n",
              "  'upload_date': '2014-04-06T23:21:47',\n",
              "  'language': 'English',\n",
              "  'licence': 'Public',\n",
              "  'url': 'https://api.openml.org/data/v1/download/31/credit-g.arff',\n",
              "  'parquet_url': 'http://openml1.win.tue.nl/dataset31/dataset_31.pq',\n",
              "  'file_id': '31',\n",
              "  'default_target_attribute': 'class',\n",
              "  'version_label': '1',\n",
              "  'citation': 'https://archive.ics.uci.edu/ml/citation_policy.html',\n",
              "  'tag': ['credit_scoring',\n",
              "   'finance_problem',\n",
              "   'mythbusting_1',\n",
              "   'OpenML-CC18',\n",
              "   'OpenML100',\n",
              "   'study_1',\n",
              "   'study_123',\n",
              "   'study_14',\n",
              "   'study_144',\n",
              "   'study_15',\n",
              "   'study_20',\n",
              "   'study_218',\n",
              "   'study_241',\n",
              "   'study_34',\n",
              "   'study_37',\n",
              "   'study_41',\n",
              "   'study_50',\n",
              "   'study_52',\n",
              "   'study_7',\n",
              "   'study_70',\n",
              "   'study_98',\n",
              "   'study_99',\n",
              "   'uci'],\n",
              "  'visibility': 'public',\n",
              "  'original_data_url': 'https://archive.ics.uci.edu/ml/datasets/statlog+(german+credit+data)',\n",
              "  'paper_url': 'https://dl.acm.org/doi/abs/10.1145/967900.968104',\n",
              "  'minio_url': 'http://openml1.win.tue.nl/dataset31/dataset_31.pq',\n",
              "  'status': 'active',\n",
              "  'processing_date': '2020-11-20 19:44:53',\n",
              "  'md5_checksum': '9a475053fed0c26ee95cd4525e50074c'}, 'url': 'https://www.openml.org/d/31'}"
            ]
          },
          "metadata": {},
          "execution_count": 3
        }
      ]
    },
    {
      "cell_type": "code",
      "source": [
        "Predictors_home = data_home.get('data')\n",
        "Target_home = data_home.get('target')"
      ],
      "metadata": {
        "id": "HaTJroHJqwff"
      },
      "execution_count": null,
      "outputs": []
    },
    {
      "cell_type": "code",
      "source": [
        "Predictors_home.head()"
      ],
      "metadata": {
        "colab": {
          "base_uri": "https://localhost:8080/",
          "height": 339
        },
        "id": "MIjJo4eirf62",
        "outputId": "0548dc83-e6d5-41a6-f4d0-61037071a0d0"
      },
      "execution_count": null,
      "outputs": [
        {
          "output_type": "execute_result",
          "data": {
            "text/plain": [
              "  checking_status  duration                  credit_history  \\\n",
              "0              <0       6.0  critical/other existing credit   \n",
              "1        0<=X<200      48.0                   existing paid   \n",
              "2     no checking      12.0  critical/other existing credit   \n",
              "3              <0      42.0                   existing paid   \n",
              "4              <0      24.0              delayed previously   \n",
              "\n",
              "               purpose  credit_amount    savings_status employment  \\\n",
              "0             radio/tv         1169.0  no known savings        >=7   \n",
              "1             radio/tv         5951.0              <100     1<=X<4   \n",
              "2            education         2096.0              <100     4<=X<7   \n",
              "3  furniture/equipment         7882.0              <100     4<=X<7   \n",
              "4              new car         4870.0              <100     1<=X<4   \n",
              "\n",
              "   installment_commitment     personal_status other_parties  residence_since  \\\n",
              "0                     4.0         male single          none              4.0   \n",
              "1                     2.0  female div/dep/mar          none              2.0   \n",
              "2                     2.0         male single          none              3.0   \n",
              "3                     2.0         male single     guarantor              4.0   \n",
              "4                     3.0         male single          none              4.0   \n",
              "\n",
              "  property_magnitude   age other_payment_plans   housing  existing_credits  \\\n",
              "0        real estate  67.0                none       own               2.0   \n",
              "1        real estate  22.0                none       own               1.0   \n",
              "2        real estate  49.0                none       own               1.0   \n",
              "3     life insurance  45.0                none  for free               1.0   \n",
              "4  no known property  53.0                none  for free               2.0   \n",
              "\n",
              "                  job  num_dependents own_telephone foreign_worker  \n",
              "0             skilled             1.0           yes            yes  \n",
              "1             skilled             1.0          none            yes  \n",
              "2  unskilled resident             2.0          none            yes  \n",
              "3             skilled             2.0          none            yes  \n",
              "4             skilled             2.0          none            yes  "
            ],
            "text/html": [
              "\n",
              "  <div id=\"df-dbb4936e-f911-4234-87f3-974704c6d80f\">\n",
              "    <div class=\"colab-df-container\">\n",
              "      <div>\n",
              "<style scoped>\n",
              "    .dataframe tbody tr th:only-of-type {\n",
              "        vertical-align: middle;\n",
              "    }\n",
              "\n",
              "    .dataframe tbody tr th {\n",
              "        vertical-align: top;\n",
              "    }\n",
              "\n",
              "    .dataframe thead th {\n",
              "        text-align: right;\n",
              "    }\n",
              "</style>\n",
              "<table border=\"1\" class=\"dataframe\">\n",
              "  <thead>\n",
              "    <tr style=\"text-align: right;\">\n",
              "      <th></th>\n",
              "      <th>checking_status</th>\n",
              "      <th>duration</th>\n",
              "      <th>credit_history</th>\n",
              "      <th>purpose</th>\n",
              "      <th>credit_amount</th>\n",
              "      <th>savings_status</th>\n",
              "      <th>employment</th>\n",
              "      <th>installment_commitment</th>\n",
              "      <th>personal_status</th>\n",
              "      <th>other_parties</th>\n",
              "      <th>residence_since</th>\n",
              "      <th>property_magnitude</th>\n",
              "      <th>age</th>\n",
              "      <th>other_payment_plans</th>\n",
              "      <th>housing</th>\n",
              "      <th>existing_credits</th>\n",
              "      <th>job</th>\n",
              "      <th>num_dependents</th>\n",
              "      <th>own_telephone</th>\n",
              "      <th>foreign_worker</th>\n",
              "    </tr>\n",
              "  </thead>\n",
              "  <tbody>\n",
              "    <tr>\n",
              "      <th>0</th>\n",
              "      <td>&lt;0</td>\n",
              "      <td>6.0</td>\n",
              "      <td>critical/other existing credit</td>\n",
              "      <td>radio/tv</td>\n",
              "      <td>1169.0</td>\n",
              "      <td>no known savings</td>\n",
              "      <td>&gt;=7</td>\n",
              "      <td>4.0</td>\n",
              "      <td>male single</td>\n",
              "      <td>none</td>\n",
              "      <td>4.0</td>\n",
              "      <td>real estate</td>\n",
              "      <td>67.0</td>\n",
              "      <td>none</td>\n",
              "      <td>own</td>\n",
              "      <td>2.0</td>\n",
              "      <td>skilled</td>\n",
              "      <td>1.0</td>\n",
              "      <td>yes</td>\n",
              "      <td>yes</td>\n",
              "    </tr>\n",
              "    <tr>\n",
              "      <th>1</th>\n",
              "      <td>0&lt;=X&lt;200</td>\n",
              "      <td>48.0</td>\n",
              "      <td>existing paid</td>\n",
              "      <td>radio/tv</td>\n",
              "      <td>5951.0</td>\n",
              "      <td>&lt;100</td>\n",
              "      <td>1&lt;=X&lt;4</td>\n",
              "      <td>2.0</td>\n",
              "      <td>female div/dep/mar</td>\n",
              "      <td>none</td>\n",
              "      <td>2.0</td>\n",
              "      <td>real estate</td>\n",
              "      <td>22.0</td>\n",
              "      <td>none</td>\n",
              "      <td>own</td>\n",
              "      <td>1.0</td>\n",
              "      <td>skilled</td>\n",
              "      <td>1.0</td>\n",
              "      <td>none</td>\n",
              "      <td>yes</td>\n",
              "    </tr>\n",
              "    <tr>\n",
              "      <th>2</th>\n",
              "      <td>no checking</td>\n",
              "      <td>12.0</td>\n",
              "      <td>critical/other existing credit</td>\n",
              "      <td>education</td>\n",
              "      <td>2096.0</td>\n",
              "      <td>&lt;100</td>\n",
              "      <td>4&lt;=X&lt;7</td>\n",
              "      <td>2.0</td>\n",
              "      <td>male single</td>\n",
              "      <td>none</td>\n",
              "      <td>3.0</td>\n",
              "      <td>real estate</td>\n",
              "      <td>49.0</td>\n",
              "      <td>none</td>\n",
              "      <td>own</td>\n",
              "      <td>1.0</td>\n",
              "      <td>unskilled resident</td>\n",
              "      <td>2.0</td>\n",
              "      <td>none</td>\n",
              "      <td>yes</td>\n",
              "    </tr>\n",
              "    <tr>\n",
              "      <th>3</th>\n",
              "      <td>&lt;0</td>\n",
              "      <td>42.0</td>\n",
              "      <td>existing paid</td>\n",
              "      <td>furniture/equipment</td>\n",
              "      <td>7882.0</td>\n",
              "      <td>&lt;100</td>\n",
              "      <td>4&lt;=X&lt;7</td>\n",
              "      <td>2.0</td>\n",
              "      <td>male single</td>\n",
              "      <td>guarantor</td>\n",
              "      <td>4.0</td>\n",
              "      <td>life insurance</td>\n",
              "      <td>45.0</td>\n",
              "      <td>none</td>\n",
              "      <td>for free</td>\n",
              "      <td>1.0</td>\n",
              "      <td>skilled</td>\n",
              "      <td>2.0</td>\n",
              "      <td>none</td>\n",
              "      <td>yes</td>\n",
              "    </tr>\n",
              "    <tr>\n",
              "      <th>4</th>\n",
              "      <td>&lt;0</td>\n",
              "      <td>24.0</td>\n",
              "      <td>delayed previously</td>\n",
              "      <td>new car</td>\n",
              "      <td>4870.0</td>\n",
              "      <td>&lt;100</td>\n",
              "      <td>1&lt;=X&lt;4</td>\n",
              "      <td>3.0</td>\n",
              "      <td>male single</td>\n",
              "      <td>none</td>\n",
              "      <td>4.0</td>\n",
              "      <td>no known property</td>\n",
              "      <td>53.0</td>\n",
              "      <td>none</td>\n",
              "      <td>for free</td>\n",
              "      <td>2.0</td>\n",
              "      <td>skilled</td>\n",
              "      <td>2.0</td>\n",
              "      <td>none</td>\n",
              "      <td>yes</td>\n",
              "    </tr>\n",
              "  </tbody>\n",
              "</table>\n",
              "</div>\n",
              "      <button class=\"colab-df-convert\" onclick=\"convertToInteractive('df-dbb4936e-f911-4234-87f3-974704c6d80f')\"\n",
              "              title=\"Convert this dataframe to an interactive table.\"\n",
              "              style=\"display:none;\">\n",
              "        \n",
              "  <svg xmlns=\"http://www.w3.org/2000/svg\" height=\"24px\"viewBox=\"0 0 24 24\"\n",
              "       width=\"24px\">\n",
              "    <path d=\"M0 0h24v24H0V0z\" fill=\"none\"/>\n",
              "    <path d=\"M18.56 5.44l.94 2.06.94-2.06 2.06-.94-2.06-.94-.94-2.06-.94 2.06-2.06.94zm-11 1L8.5 8.5l.94-2.06 2.06-.94-2.06-.94L8.5 2.5l-.94 2.06-2.06.94zm10 10l.94 2.06.94-2.06 2.06-.94-2.06-.94-.94-2.06-.94 2.06-2.06.94z\"/><path d=\"M17.41 7.96l-1.37-1.37c-.4-.4-.92-.59-1.43-.59-.52 0-1.04.2-1.43.59L10.3 9.45l-7.72 7.72c-.78.78-.78 2.05 0 2.83L4 21.41c.39.39.9.59 1.41.59.51 0 1.02-.2 1.41-.59l7.78-7.78 2.81-2.81c.8-.78.8-2.07 0-2.86zM5.41 20L4 18.59l7.72-7.72 1.47 1.35L5.41 20z\"/>\n",
              "  </svg>\n",
              "      </button>\n",
              "      \n",
              "  <style>\n",
              "    .colab-df-container {\n",
              "      display:flex;\n",
              "      flex-wrap:wrap;\n",
              "      gap: 12px;\n",
              "    }\n",
              "\n",
              "    .colab-df-convert {\n",
              "      background-color: #E8F0FE;\n",
              "      border: none;\n",
              "      border-radius: 50%;\n",
              "      cursor: pointer;\n",
              "      display: none;\n",
              "      fill: #1967D2;\n",
              "      height: 32px;\n",
              "      padding: 0 0 0 0;\n",
              "      width: 32px;\n",
              "    }\n",
              "\n",
              "    .colab-df-convert:hover {\n",
              "      background-color: #E2EBFA;\n",
              "      box-shadow: 0px 1px 2px rgba(60, 64, 67, 0.3), 0px 1px 3px 1px rgba(60, 64, 67, 0.15);\n",
              "      fill: #174EA6;\n",
              "    }\n",
              "\n",
              "    [theme=dark] .colab-df-convert {\n",
              "      background-color: #3B4455;\n",
              "      fill: #D2E3FC;\n",
              "    }\n",
              "\n",
              "    [theme=dark] .colab-df-convert:hover {\n",
              "      background-color: #434B5C;\n",
              "      box-shadow: 0px 1px 3px 1px rgba(0, 0, 0, 0.15);\n",
              "      filter: drop-shadow(0px 1px 2px rgba(0, 0, 0, 0.3));\n",
              "      fill: #FFFFFF;\n",
              "    }\n",
              "  </style>\n",
              "\n",
              "      <script>\n",
              "        const buttonEl =\n",
              "          document.querySelector('#df-dbb4936e-f911-4234-87f3-974704c6d80f button.colab-df-convert');\n",
              "        buttonEl.style.display =\n",
              "          google.colab.kernel.accessAllowed ? 'block' : 'none';\n",
              "\n",
              "        async function convertToInteractive(key) {\n",
              "          const element = document.querySelector('#df-dbb4936e-f911-4234-87f3-974704c6d80f');\n",
              "          const dataTable =\n",
              "            await google.colab.kernel.invokeFunction('convertToInteractive',\n",
              "                                                     [key], {});\n",
              "          if (!dataTable) return;\n",
              "\n",
              "          const docLinkHtml = 'Like what you see? Visit the ' +\n",
              "            '<a target=\"_blank\" href=https://colab.research.google.com/notebooks/data_table.ipynb>data table notebook</a>'\n",
              "            + ' to learn more about interactive tables.';\n",
              "          element.innerHTML = '';\n",
              "          dataTable['output_type'] = 'display_data';\n",
              "          await google.colab.output.renderOutput(dataTable, element);\n",
              "          const docLink = document.createElement('div');\n",
              "          docLink.innerHTML = docLinkHtml;\n",
              "          element.appendChild(docLink);\n",
              "        }\n",
              "      </script>\n",
              "    </div>\n",
              "  </div>\n",
              "  "
            ]
          },
          "metadata": {},
          "execution_count": 5
        }
      ]
    },
    {
      "cell_type": "code",
      "source": [
        "Target_home.head()"
      ],
      "metadata": {
        "colab": {
          "base_uri": "https://localhost:8080/"
        },
        "id": "Vg3m656ZrgJW",
        "outputId": "bdd4b61e-29f9-45c5-b80d-9f427401930e"
      },
      "execution_count": null,
      "outputs": [
        {
          "output_type": "execute_result",
          "data": {
            "text/plain": [
              "0    good\n",
              "1     bad\n",
              "2    good\n",
              "3    good\n",
              "4     bad\n",
              "Name: class, dtype: category\n",
              "Categories (2, object): ['good', 'bad']"
            ]
          },
          "metadata": {},
          "execution_count": 6
        }
      ]
    },
    {
      "cell_type": "code",
      "source": [
        "print(\"Size of data table X\", Predictors_home.shape)\n",
        "print(\"Size of the response vector Y\", Target_home.shape)"
      ],
      "metadata": {
        "colab": {
          "base_uri": "https://localhost:8080/"
        },
        "id": "6KTbICCGrw2P",
        "outputId": "9d999c18-7f52-47c6-a275-2abf68a6784c"
      },
      "execution_count": null,
      "outputs": [
        {
          "output_type": "stream",
          "name": "stdout",
          "text": [
            "Size of data table X (1000, 20)\n",
            "Size of the response vector Y (1000,)\n"
          ]
        }
      ]
    },
    {
      "cell_type": "code",
      "source": [
        "Predictors_home.isna().sum()"
      ],
      "metadata": {
        "colab": {
          "base_uri": "https://localhost:8080/"
        },
        "id": "oe5f_4Cys0Me",
        "outputId": "ae0e46f6-aec5-43da-9307-2224c796e167"
      },
      "execution_count": null,
      "outputs": [
        {
          "output_type": "execute_result",
          "data": {
            "text/plain": [
              "checking_status           0\n",
              "duration                  0\n",
              "credit_history            0\n",
              "purpose                   0\n",
              "credit_amount             0\n",
              "savings_status            0\n",
              "employment                0\n",
              "installment_commitment    0\n",
              "personal_status           0\n",
              "other_parties             0\n",
              "residence_since           0\n",
              "property_magnitude        0\n",
              "age                       0\n",
              "other_payment_plans       0\n",
              "housing                   0\n",
              "existing_credits          0\n",
              "job                       0\n",
              "num_dependents            0\n",
              "own_telephone             0\n",
              "foreign_worker            0\n",
              "dtype: int64"
            ]
          },
          "metadata": {},
          "execution_count": 8
        }
      ]
    },
    {
      "cell_type": "code",
      "source": [
        "Target_home.isna().sum()"
      ],
      "metadata": {
        "colab": {
          "base_uri": "https://localhost:8080/"
        },
        "id": "iGMt43v-s3af",
        "outputId": "b173babc-ca12-4209-a767-b6cb24d7b8dd"
      },
      "execution_count": null,
      "outputs": [
        {
          "output_type": "execute_result",
          "data": {
            "text/plain": [
              "0"
            ]
          },
          "metadata": {},
          "execution_count": 9
        }
      ]
    },
    {
      "cell_type": "code",
      "source": [
        "Predictors_home.describe()"
      ],
      "metadata": {
        "colab": {
          "base_uri": "https://localhost:8080/",
          "height": 300
        },
        "id": "ACGaFiuns7zn",
        "outputId": "1a70526f-6017-4caf-8398-71193fc8dab1"
      },
      "execution_count": null,
      "outputs": [
        {
          "output_type": "execute_result",
          "data": {
            "text/plain": [
              "          duration  credit_amount  installment_commitment  residence_since  \\\n",
              "count  1000.000000    1000.000000             1000.000000      1000.000000   \n",
              "mean     20.903000    3271.258000                2.973000         2.845000   \n",
              "std      12.058814    2822.736876                1.118715         1.103718   \n",
              "min       4.000000     250.000000                1.000000         1.000000   \n",
              "25%      12.000000    1365.500000                2.000000         2.000000   \n",
              "50%      18.000000    2319.500000                3.000000         3.000000   \n",
              "75%      24.000000    3972.250000                4.000000         4.000000   \n",
              "max      72.000000   18424.000000                4.000000         4.000000   \n",
              "\n",
              "               age  existing_credits  num_dependents  \n",
              "count  1000.000000       1000.000000     1000.000000  \n",
              "mean     35.546000          1.407000        1.155000  \n",
              "std      11.375469          0.577654        0.362086  \n",
              "min      19.000000          1.000000        1.000000  \n",
              "25%      27.000000          1.000000        1.000000  \n",
              "50%      33.000000          1.000000        1.000000  \n",
              "75%      42.000000          2.000000        1.000000  \n",
              "max      75.000000          4.000000        2.000000  "
            ],
            "text/html": [
              "\n",
              "  <div id=\"df-c0452f34-e0fb-497e-b4b4-d0585842f73c\">\n",
              "    <div class=\"colab-df-container\">\n",
              "      <div>\n",
              "<style scoped>\n",
              "    .dataframe tbody tr th:only-of-type {\n",
              "        vertical-align: middle;\n",
              "    }\n",
              "\n",
              "    .dataframe tbody tr th {\n",
              "        vertical-align: top;\n",
              "    }\n",
              "\n",
              "    .dataframe thead th {\n",
              "        text-align: right;\n",
              "    }\n",
              "</style>\n",
              "<table border=\"1\" class=\"dataframe\">\n",
              "  <thead>\n",
              "    <tr style=\"text-align: right;\">\n",
              "      <th></th>\n",
              "      <th>duration</th>\n",
              "      <th>credit_amount</th>\n",
              "      <th>installment_commitment</th>\n",
              "      <th>residence_since</th>\n",
              "      <th>age</th>\n",
              "      <th>existing_credits</th>\n",
              "      <th>num_dependents</th>\n",
              "    </tr>\n",
              "  </thead>\n",
              "  <tbody>\n",
              "    <tr>\n",
              "      <th>count</th>\n",
              "      <td>1000.000000</td>\n",
              "      <td>1000.000000</td>\n",
              "      <td>1000.000000</td>\n",
              "      <td>1000.000000</td>\n",
              "      <td>1000.000000</td>\n",
              "      <td>1000.000000</td>\n",
              "      <td>1000.000000</td>\n",
              "    </tr>\n",
              "    <tr>\n",
              "      <th>mean</th>\n",
              "      <td>20.903000</td>\n",
              "      <td>3271.258000</td>\n",
              "      <td>2.973000</td>\n",
              "      <td>2.845000</td>\n",
              "      <td>35.546000</td>\n",
              "      <td>1.407000</td>\n",
              "      <td>1.155000</td>\n",
              "    </tr>\n",
              "    <tr>\n",
              "      <th>std</th>\n",
              "      <td>12.058814</td>\n",
              "      <td>2822.736876</td>\n",
              "      <td>1.118715</td>\n",
              "      <td>1.103718</td>\n",
              "      <td>11.375469</td>\n",
              "      <td>0.577654</td>\n",
              "      <td>0.362086</td>\n",
              "    </tr>\n",
              "    <tr>\n",
              "      <th>min</th>\n",
              "      <td>4.000000</td>\n",
              "      <td>250.000000</td>\n",
              "      <td>1.000000</td>\n",
              "      <td>1.000000</td>\n",
              "      <td>19.000000</td>\n",
              "      <td>1.000000</td>\n",
              "      <td>1.000000</td>\n",
              "    </tr>\n",
              "    <tr>\n",
              "      <th>25%</th>\n",
              "      <td>12.000000</td>\n",
              "      <td>1365.500000</td>\n",
              "      <td>2.000000</td>\n",
              "      <td>2.000000</td>\n",
              "      <td>27.000000</td>\n",
              "      <td>1.000000</td>\n",
              "      <td>1.000000</td>\n",
              "    </tr>\n",
              "    <tr>\n",
              "      <th>50%</th>\n",
              "      <td>18.000000</td>\n",
              "      <td>2319.500000</td>\n",
              "      <td>3.000000</td>\n",
              "      <td>3.000000</td>\n",
              "      <td>33.000000</td>\n",
              "      <td>1.000000</td>\n",
              "      <td>1.000000</td>\n",
              "    </tr>\n",
              "    <tr>\n",
              "      <th>75%</th>\n",
              "      <td>24.000000</td>\n",
              "      <td>3972.250000</td>\n",
              "      <td>4.000000</td>\n",
              "      <td>4.000000</td>\n",
              "      <td>42.000000</td>\n",
              "      <td>2.000000</td>\n",
              "      <td>1.000000</td>\n",
              "    </tr>\n",
              "    <tr>\n",
              "      <th>max</th>\n",
              "      <td>72.000000</td>\n",
              "      <td>18424.000000</td>\n",
              "      <td>4.000000</td>\n",
              "      <td>4.000000</td>\n",
              "      <td>75.000000</td>\n",
              "      <td>4.000000</td>\n",
              "      <td>2.000000</td>\n",
              "    </tr>\n",
              "  </tbody>\n",
              "</table>\n",
              "</div>\n",
              "      <button class=\"colab-df-convert\" onclick=\"convertToInteractive('df-c0452f34-e0fb-497e-b4b4-d0585842f73c')\"\n",
              "              title=\"Convert this dataframe to an interactive table.\"\n",
              "              style=\"display:none;\">\n",
              "        \n",
              "  <svg xmlns=\"http://www.w3.org/2000/svg\" height=\"24px\"viewBox=\"0 0 24 24\"\n",
              "       width=\"24px\">\n",
              "    <path d=\"M0 0h24v24H0V0z\" fill=\"none\"/>\n",
              "    <path d=\"M18.56 5.44l.94 2.06.94-2.06 2.06-.94-2.06-.94-.94-2.06-.94 2.06-2.06.94zm-11 1L8.5 8.5l.94-2.06 2.06-.94-2.06-.94L8.5 2.5l-.94 2.06-2.06.94zm10 10l.94 2.06.94-2.06 2.06-.94-2.06-.94-.94-2.06-.94 2.06-2.06.94z\"/><path d=\"M17.41 7.96l-1.37-1.37c-.4-.4-.92-.59-1.43-.59-.52 0-1.04.2-1.43.59L10.3 9.45l-7.72 7.72c-.78.78-.78 2.05 0 2.83L4 21.41c.39.39.9.59 1.41.59.51 0 1.02-.2 1.41-.59l7.78-7.78 2.81-2.81c.8-.78.8-2.07 0-2.86zM5.41 20L4 18.59l7.72-7.72 1.47 1.35L5.41 20z\"/>\n",
              "  </svg>\n",
              "      </button>\n",
              "      \n",
              "  <style>\n",
              "    .colab-df-container {\n",
              "      display:flex;\n",
              "      flex-wrap:wrap;\n",
              "      gap: 12px;\n",
              "    }\n",
              "\n",
              "    .colab-df-convert {\n",
              "      background-color: #E8F0FE;\n",
              "      border: none;\n",
              "      border-radius: 50%;\n",
              "      cursor: pointer;\n",
              "      display: none;\n",
              "      fill: #1967D2;\n",
              "      height: 32px;\n",
              "      padding: 0 0 0 0;\n",
              "      width: 32px;\n",
              "    }\n",
              "\n",
              "    .colab-df-convert:hover {\n",
              "      background-color: #E2EBFA;\n",
              "      box-shadow: 0px 1px 2px rgba(60, 64, 67, 0.3), 0px 1px 3px 1px rgba(60, 64, 67, 0.15);\n",
              "      fill: #174EA6;\n",
              "    }\n",
              "\n",
              "    [theme=dark] .colab-df-convert {\n",
              "      background-color: #3B4455;\n",
              "      fill: #D2E3FC;\n",
              "    }\n",
              "\n",
              "    [theme=dark] .colab-df-convert:hover {\n",
              "      background-color: #434B5C;\n",
              "      box-shadow: 0px 1px 3px 1px rgba(0, 0, 0, 0.15);\n",
              "      filter: drop-shadow(0px 1px 2px rgba(0, 0, 0, 0.3));\n",
              "      fill: #FFFFFF;\n",
              "    }\n",
              "  </style>\n",
              "\n",
              "      <script>\n",
              "        const buttonEl =\n",
              "          document.querySelector('#df-c0452f34-e0fb-497e-b4b4-d0585842f73c button.colab-df-convert');\n",
              "        buttonEl.style.display =\n",
              "          google.colab.kernel.accessAllowed ? 'block' : 'none';\n",
              "\n",
              "        async function convertToInteractive(key) {\n",
              "          const element = document.querySelector('#df-c0452f34-e0fb-497e-b4b4-d0585842f73c');\n",
              "          const dataTable =\n",
              "            await google.colab.kernel.invokeFunction('convertToInteractive',\n",
              "                                                     [key], {});\n",
              "          if (!dataTable) return;\n",
              "\n",
              "          const docLinkHtml = 'Like what you see? Visit the ' +\n",
              "            '<a target=\"_blank\" href=https://colab.research.google.com/notebooks/data_table.ipynb>data table notebook</a>'\n",
              "            + ' to learn more about interactive tables.';\n",
              "          element.innerHTML = '';\n",
              "          dataTable['output_type'] = 'display_data';\n",
              "          await google.colab.output.renderOutput(dataTable, element);\n",
              "          const docLink = document.createElement('div');\n",
              "          docLink.innerHTML = docLinkHtml;\n",
              "          element.appendChild(docLink);\n",
              "        }\n",
              "      </script>\n",
              "    </div>\n",
              "  </div>\n",
              "  "
            ]
          },
          "metadata": {},
          "execution_count": 10
        }
      ]
    },
    {
      "cell_type": "code",
      "source": [
        "unique_targets = list(set(Target_home))\n",
        "Target_dict = dict(zip(unique_targets, range(len(unique_targets))))\n",
        "Target = Target_home.replace(to_replace=unique_targets, value=list(Target_dict.values()))"
      ],
      "metadata": {
        "id": "Qo4IZ_ertDPP"
      },
      "execution_count": null,
      "outputs": []
    },
    {
      "cell_type": "code",
      "source": [
        "unique_targets"
      ],
      "metadata": {
        "colab": {
          "base_uri": "https://localhost:8080/"
        },
        "id": "y4TMwxXmtPEw",
        "outputId": "6d4627d5-414d-4649-8f6e-c91dd3cb2d64"
      },
      "execution_count": null,
      "outputs": [
        {
          "output_type": "execute_result",
          "data": {
            "text/plain": [
              "['bad', 'good']"
            ]
          },
          "metadata": {},
          "execution_count": 12
        }
      ]
    },
    {
      "cell_type": "code",
      "source": [
        "Predictors_home.shape"
      ],
      "metadata": {
        "colab": {
          "base_uri": "https://localhost:8080/"
        },
        "id": "rFe6gebNuv-f",
        "outputId": "905c7fd9-e97a-4560-8bbc-e5998ddf65c7"
      },
      "execution_count": null,
      "outputs": [
        {
          "output_type": "execute_result",
          "data": {
            "text/plain": [
              "(1000, 20)"
            ]
          },
          "metadata": {},
          "execution_count": 13
        }
      ]
    },
    {
      "cell_type": "code",
      "source": [
        "Predictors_home.columns"
      ],
      "metadata": {
        "colab": {
          "base_uri": "https://localhost:8080/"
        },
        "id": "g-6iy7oourb4",
        "outputId": "46608934-15e4-4bda-8b65-d49237a052e7"
      },
      "execution_count": null,
      "outputs": [
        {
          "output_type": "execute_result",
          "data": {
            "text/plain": [
              "Index(['checking_status', 'duration', 'credit_history', 'purpose',\n",
              "       'credit_amount', 'savings_status', 'employment',\n",
              "       'installment_commitment', 'personal_status', 'other_parties',\n",
              "       'residence_since', 'property_magnitude', 'age', 'other_payment_plans',\n",
              "       'housing', 'existing_credits', 'job', 'num_dependents', 'own_telephone',\n",
              "       'foreign_worker'],\n",
              "      dtype='object')"
            ]
          },
          "metadata": {},
          "execution_count": 14
        }
      ]
    },
    {
      "cell_type": "code",
      "source": [
        "Predictors_dummies = pd.get_dummies(Predictors_home)\n",
        "Predictors_dummies = Predictors_dummies[Predictors_dummies.columns].astype('category') # prefix=['checking_status', 'credit_history', 'purpose', 'savings_status', 'employment', \n",
        "                                                                                       #'personal_status', 'other_parties', 'property_magnitude', 'other_payment_plans',\n",
        "                                                                                       # 'housing', 'job', 'own_telephone', 'foreign_worker'])\n",
        "print(Predictors_dummies.describe())"
      ],
      "metadata": {
        "colab": {
          "base_uri": "https://localhost:8080/"
        },
        "id": "anKIbht8tSHA",
        "outputId": "b021418e-eac4-4200-98b3-336b731ee13b"
      },
      "execution_count": null,
      "outputs": [
        {
          "output_type": "stream",
          "name": "stdout",
          "text": [
            "        duration  credit_amount  installment_commitment  residence_since  \\\n",
            "count     1000.0         1000.0                  1000.0           1000.0   \n",
            "unique      33.0          921.0                     4.0              4.0   \n",
            "top         24.0         1275.0                     4.0              4.0   \n",
            "freq       184.0            3.0                   476.0            413.0   \n",
            "\n",
            "           age  existing_credits  num_dependents  checking_status_<0  \\\n",
            "count   1000.0            1000.0          1000.0                1000   \n",
            "unique    53.0               4.0             2.0                   2   \n",
            "top       27.0               1.0             1.0                   0   \n",
            "freq      51.0             633.0           845.0                 726   \n",
            "\n",
            "        checking_status_0<=X<200  checking_status_>=200  ...  housing_own  \\\n",
            "count                       1000                   1000  ...         1000   \n",
            "unique                         2                      2  ...            2   \n",
            "top                            0                      0  ...            1   \n",
            "freq                         731                    937  ...          713   \n",
            "\n",
            "        housing_for free  job_unemp/unskilled non res  job_unskilled resident  \\\n",
            "count               1000                         1000                    1000   \n",
            "unique                 2                            2                       2   \n",
            "top                    0                            0                       0   \n",
            "freq                 892                          978                     800   \n",
            "\n",
            "        job_skilled  job_high qualif/self emp/mgmt  own_telephone_none  \\\n",
            "count          1000                           1000                1000   \n",
            "unique            2                              2                   2   \n",
            "top               1                              0                   1   \n",
            "freq            630                            852                 596   \n",
            "\n",
            "        own_telephone_yes  foreign_worker_yes  foreign_worker_no  \n",
            "count                1000                1000               1000  \n",
            "unique                  2                   2                  2  \n",
            "top                     0                   1                  0  \n",
            "freq                  596                 963                963  \n",
            "\n",
            "[4 rows x 63 columns]\n"
          ]
        }
      ]
    },
    {
      "cell_type": "code",
      "source": [
        "Predictors_dummies = Predictors_dummies[Predictors_dummies.columns].astype('float')\n",
        "print(Predictors_dummies.describe())"
      ],
      "metadata": {
        "colab": {
          "base_uri": "https://localhost:8080/"
        },
        "id": "NNz4SkLMy3dI",
        "outputId": "37f0ae34-0875-4e25-8aa4-d615f0b3d5d2"
      },
      "execution_count": null,
      "outputs": [
        {
          "output_type": "stream",
          "name": "stdout",
          "text": [
            "          duration  credit_amount  installment_commitment  residence_since  \\\n",
            "count  1000.000000    1000.000000             1000.000000      1000.000000   \n",
            "mean     20.903000    3271.258000                2.973000         2.845000   \n",
            "std      12.058814    2822.736876                1.118715         1.103718   \n",
            "min       4.000000     250.000000                1.000000         1.000000   \n",
            "25%      12.000000    1365.500000                2.000000         2.000000   \n",
            "50%      18.000000    2319.500000                3.000000         3.000000   \n",
            "75%      24.000000    3972.250000                4.000000         4.000000   \n",
            "max      72.000000   18424.000000                4.000000         4.000000   \n",
            "\n",
            "               age  existing_credits  num_dependents  checking_status_<0  \\\n",
            "count  1000.000000       1000.000000     1000.000000         1000.000000   \n",
            "mean     35.546000          1.407000        1.155000            0.274000   \n",
            "std      11.375469          0.577654        0.362086            0.446232   \n",
            "min      19.000000          1.000000        1.000000            0.000000   \n",
            "25%      27.000000          1.000000        1.000000            0.000000   \n",
            "50%      33.000000          1.000000        1.000000            0.000000   \n",
            "75%      42.000000          2.000000        1.000000            1.000000   \n",
            "max      75.000000          4.000000        2.000000            1.000000   \n",
            "\n",
            "       checking_status_0<=X<200  checking_status_>=200  ...  housing_own  \\\n",
            "count               1000.000000            1000.000000  ...  1000.000000   \n",
            "mean                   0.269000               0.063000  ...     0.713000   \n",
            "std                    0.443662               0.243085  ...     0.452588   \n",
            "min                    0.000000               0.000000  ...     0.000000   \n",
            "25%                    0.000000               0.000000  ...     0.000000   \n",
            "50%                    0.000000               0.000000  ...     1.000000   \n",
            "75%                    1.000000               0.000000  ...     1.000000   \n",
            "max                    1.000000               1.000000  ...     1.000000   \n",
            "\n",
            "       housing_for free  job_unemp/unskilled non res  job_unskilled resident  \\\n",
            "count       1000.000000                  1000.000000               1000.0000   \n",
            "mean           0.108000                     0.022000                  0.2000   \n",
            "std            0.310536                     0.146757                  0.4002   \n",
            "min            0.000000                     0.000000                  0.0000   \n",
            "25%            0.000000                     0.000000                  0.0000   \n",
            "50%            0.000000                     0.000000                  0.0000   \n",
            "75%            0.000000                     0.000000                  0.0000   \n",
            "max            1.000000                     1.000000                  1.0000   \n",
            "\n",
            "       job_skilled  job_high qualif/self emp/mgmt  own_telephone_none  \\\n",
            "count  1000.000000                    1000.000000         1000.000000   \n",
            "mean      0.630000                       0.148000            0.596000   \n",
            "std       0.483046                       0.355278            0.490943   \n",
            "min       0.000000                       0.000000            0.000000   \n",
            "25%       0.000000                       0.000000            0.000000   \n",
            "50%       1.000000                       0.000000            1.000000   \n",
            "75%       1.000000                       0.000000            1.000000   \n",
            "max       1.000000                       1.000000            1.000000   \n",
            "\n",
            "       own_telephone_yes  foreign_worker_yes  foreign_worker_no  \n",
            "count        1000.000000         1000.000000        1000.000000  \n",
            "mean            0.404000            0.963000           0.037000  \n",
            "std             0.490943            0.188856           0.188856  \n",
            "min             0.000000            0.000000           0.000000  \n",
            "25%             0.000000            1.000000           0.000000  \n",
            "50%             0.000000            1.000000           0.000000  \n",
            "75%             1.000000            1.000000           0.000000  \n",
            "max             1.000000            1.000000           1.000000  \n",
            "\n",
            "[8 rows x 63 columns]\n"
          ]
        }
      ]
    },
    {
      "cell_type": "code",
      "source": [
        "Predictors_dummies"
      ],
      "metadata": {
        "colab": {
          "base_uri": "https://localhost:8080/",
          "height": 522
        },
        "id": "c78VS6ME2lhg",
        "outputId": "6ef9108a-e1f5-4cf2-e44d-fc0ae32d8141"
      },
      "execution_count": null,
      "outputs": [
        {
          "output_type": "execute_result",
          "data": {
            "text/plain": [
              "     duration  credit_amount  installment_commitment  residence_since   age  \\\n",
              "0         6.0         1169.0                     4.0              4.0  67.0   \n",
              "1        48.0         5951.0                     2.0              2.0  22.0   \n",
              "2        12.0         2096.0                     2.0              3.0  49.0   \n",
              "3        42.0         7882.0                     2.0              4.0  45.0   \n",
              "4        24.0         4870.0                     3.0              4.0  53.0   \n",
              "..        ...            ...                     ...              ...   ...   \n",
              "995      12.0         1736.0                     3.0              4.0  31.0   \n",
              "996      30.0         3857.0                     4.0              4.0  40.0   \n",
              "997      12.0          804.0                     4.0              4.0  38.0   \n",
              "998      45.0         1845.0                     4.0              4.0  23.0   \n",
              "999      45.0         4576.0                     3.0              4.0  27.0   \n",
              "\n",
              "     existing_credits  num_dependents  checking_status_<0  \\\n",
              "0                 2.0             1.0                 1.0   \n",
              "1                 1.0             1.0                 0.0   \n",
              "2                 1.0             2.0                 0.0   \n",
              "3                 1.0             2.0                 1.0   \n",
              "4                 2.0             2.0                 1.0   \n",
              "..                ...             ...                 ...   \n",
              "995               1.0             1.0                 0.0   \n",
              "996               1.0             1.0                 1.0   \n",
              "997               1.0             1.0                 0.0   \n",
              "998               1.0             1.0                 1.0   \n",
              "999               1.0             1.0                 0.0   \n",
              "\n",
              "     checking_status_0<=X<200  checking_status_>=200  ...  housing_own  \\\n",
              "0                         0.0                    0.0  ...          1.0   \n",
              "1                         1.0                    0.0  ...          1.0   \n",
              "2                         0.0                    0.0  ...          1.0   \n",
              "3                         0.0                    0.0  ...          0.0   \n",
              "4                         0.0                    0.0  ...          0.0   \n",
              "..                        ...                    ...  ...          ...   \n",
              "995                       0.0                    0.0  ...          1.0   \n",
              "996                       0.0                    0.0  ...          1.0   \n",
              "997                       0.0                    0.0  ...          1.0   \n",
              "998                       0.0                    0.0  ...          0.0   \n",
              "999                       1.0                    0.0  ...          1.0   \n",
              "\n",
              "     housing_for free  job_unemp/unskilled non res  job_unskilled resident  \\\n",
              "0                 0.0                          0.0                     0.0   \n",
              "1                 0.0                          0.0                     0.0   \n",
              "2                 0.0                          0.0                     1.0   \n",
              "3                 1.0                          0.0                     0.0   \n",
              "4                 1.0                          0.0                     0.0   \n",
              "..                ...                          ...                     ...   \n",
              "995               0.0                          0.0                     1.0   \n",
              "996               0.0                          0.0                     0.0   \n",
              "997               0.0                          0.0                     0.0   \n",
              "998               1.0                          0.0                     0.0   \n",
              "999               0.0                          0.0                     0.0   \n",
              "\n",
              "     job_skilled  job_high qualif/self emp/mgmt  own_telephone_none  \\\n",
              "0            1.0                            0.0                 0.0   \n",
              "1            1.0                            0.0                 1.0   \n",
              "2            0.0                            0.0                 1.0   \n",
              "3            1.0                            0.0                 1.0   \n",
              "4            1.0                            0.0                 1.0   \n",
              "..           ...                            ...                 ...   \n",
              "995          0.0                            0.0                 1.0   \n",
              "996          0.0                            1.0                 0.0   \n",
              "997          1.0                            0.0                 1.0   \n",
              "998          1.0                            0.0                 0.0   \n",
              "999          1.0                            0.0                 1.0   \n",
              "\n",
              "     own_telephone_yes  foreign_worker_yes  foreign_worker_no  \n",
              "0                  1.0                 1.0                0.0  \n",
              "1                  0.0                 1.0                0.0  \n",
              "2                  0.0                 1.0                0.0  \n",
              "3                  0.0                 1.0                0.0  \n",
              "4                  0.0                 1.0                0.0  \n",
              "..                 ...                 ...                ...  \n",
              "995                0.0                 1.0                0.0  \n",
              "996                1.0                 1.0                0.0  \n",
              "997                0.0                 1.0                0.0  \n",
              "998                1.0                 1.0                0.0  \n",
              "999                0.0                 1.0                0.0  \n",
              "\n",
              "[1000 rows x 63 columns]"
            ],
            "text/html": [
              "\n",
              "  <div id=\"df-59a9ed00-ac5c-4501-b57c-4be330e0abbb\">\n",
              "    <div class=\"colab-df-container\">\n",
              "      <div>\n",
              "<style scoped>\n",
              "    .dataframe tbody tr th:only-of-type {\n",
              "        vertical-align: middle;\n",
              "    }\n",
              "\n",
              "    .dataframe tbody tr th {\n",
              "        vertical-align: top;\n",
              "    }\n",
              "\n",
              "    .dataframe thead th {\n",
              "        text-align: right;\n",
              "    }\n",
              "</style>\n",
              "<table border=\"1\" class=\"dataframe\">\n",
              "  <thead>\n",
              "    <tr style=\"text-align: right;\">\n",
              "      <th></th>\n",
              "      <th>duration</th>\n",
              "      <th>credit_amount</th>\n",
              "      <th>installment_commitment</th>\n",
              "      <th>residence_since</th>\n",
              "      <th>age</th>\n",
              "      <th>existing_credits</th>\n",
              "      <th>num_dependents</th>\n",
              "      <th>checking_status_&lt;0</th>\n",
              "      <th>checking_status_0&lt;=X&lt;200</th>\n",
              "      <th>checking_status_&gt;=200</th>\n",
              "      <th>...</th>\n",
              "      <th>housing_own</th>\n",
              "      <th>housing_for free</th>\n",
              "      <th>job_unemp/unskilled non res</th>\n",
              "      <th>job_unskilled resident</th>\n",
              "      <th>job_skilled</th>\n",
              "      <th>job_high qualif/self emp/mgmt</th>\n",
              "      <th>own_telephone_none</th>\n",
              "      <th>own_telephone_yes</th>\n",
              "      <th>foreign_worker_yes</th>\n",
              "      <th>foreign_worker_no</th>\n",
              "    </tr>\n",
              "  </thead>\n",
              "  <tbody>\n",
              "    <tr>\n",
              "      <th>0</th>\n",
              "      <td>6.0</td>\n",
              "      <td>1169.0</td>\n",
              "      <td>4.0</td>\n",
              "      <td>4.0</td>\n",
              "      <td>67.0</td>\n",
              "      <td>2.0</td>\n",
              "      <td>1.0</td>\n",
              "      <td>1.0</td>\n",
              "      <td>0.0</td>\n",
              "      <td>0.0</td>\n",
              "      <td>...</td>\n",
              "      <td>1.0</td>\n",
              "      <td>0.0</td>\n",
              "      <td>0.0</td>\n",
              "      <td>0.0</td>\n",
              "      <td>1.0</td>\n",
              "      <td>0.0</td>\n",
              "      <td>0.0</td>\n",
              "      <td>1.0</td>\n",
              "      <td>1.0</td>\n",
              "      <td>0.0</td>\n",
              "    </tr>\n",
              "    <tr>\n",
              "      <th>1</th>\n",
              "      <td>48.0</td>\n",
              "      <td>5951.0</td>\n",
              "      <td>2.0</td>\n",
              "      <td>2.0</td>\n",
              "      <td>22.0</td>\n",
              "      <td>1.0</td>\n",
              "      <td>1.0</td>\n",
              "      <td>0.0</td>\n",
              "      <td>1.0</td>\n",
              "      <td>0.0</td>\n",
              "      <td>...</td>\n",
              "      <td>1.0</td>\n",
              "      <td>0.0</td>\n",
              "      <td>0.0</td>\n",
              "      <td>0.0</td>\n",
              "      <td>1.0</td>\n",
              "      <td>0.0</td>\n",
              "      <td>1.0</td>\n",
              "      <td>0.0</td>\n",
              "      <td>1.0</td>\n",
              "      <td>0.0</td>\n",
              "    </tr>\n",
              "    <tr>\n",
              "      <th>2</th>\n",
              "      <td>12.0</td>\n",
              "      <td>2096.0</td>\n",
              "      <td>2.0</td>\n",
              "      <td>3.0</td>\n",
              "      <td>49.0</td>\n",
              "      <td>1.0</td>\n",
              "      <td>2.0</td>\n",
              "      <td>0.0</td>\n",
              "      <td>0.0</td>\n",
              "      <td>0.0</td>\n",
              "      <td>...</td>\n",
              "      <td>1.0</td>\n",
              "      <td>0.0</td>\n",
              "      <td>0.0</td>\n",
              "      <td>1.0</td>\n",
              "      <td>0.0</td>\n",
              "      <td>0.0</td>\n",
              "      <td>1.0</td>\n",
              "      <td>0.0</td>\n",
              "      <td>1.0</td>\n",
              "      <td>0.0</td>\n",
              "    </tr>\n",
              "    <tr>\n",
              "      <th>3</th>\n",
              "      <td>42.0</td>\n",
              "      <td>7882.0</td>\n",
              "      <td>2.0</td>\n",
              "      <td>4.0</td>\n",
              "      <td>45.0</td>\n",
              "      <td>1.0</td>\n",
              "      <td>2.0</td>\n",
              "      <td>1.0</td>\n",
              "      <td>0.0</td>\n",
              "      <td>0.0</td>\n",
              "      <td>...</td>\n",
              "      <td>0.0</td>\n",
              "      <td>1.0</td>\n",
              "      <td>0.0</td>\n",
              "      <td>0.0</td>\n",
              "      <td>1.0</td>\n",
              "      <td>0.0</td>\n",
              "      <td>1.0</td>\n",
              "      <td>0.0</td>\n",
              "      <td>1.0</td>\n",
              "      <td>0.0</td>\n",
              "    </tr>\n",
              "    <tr>\n",
              "      <th>4</th>\n",
              "      <td>24.0</td>\n",
              "      <td>4870.0</td>\n",
              "      <td>3.0</td>\n",
              "      <td>4.0</td>\n",
              "      <td>53.0</td>\n",
              "      <td>2.0</td>\n",
              "      <td>2.0</td>\n",
              "      <td>1.0</td>\n",
              "      <td>0.0</td>\n",
              "      <td>0.0</td>\n",
              "      <td>...</td>\n",
              "      <td>0.0</td>\n",
              "      <td>1.0</td>\n",
              "      <td>0.0</td>\n",
              "      <td>0.0</td>\n",
              "      <td>1.0</td>\n",
              "      <td>0.0</td>\n",
              "      <td>1.0</td>\n",
              "      <td>0.0</td>\n",
              "      <td>1.0</td>\n",
              "      <td>0.0</td>\n",
              "    </tr>\n",
              "    <tr>\n",
              "      <th>...</th>\n",
              "      <td>...</td>\n",
              "      <td>...</td>\n",
              "      <td>...</td>\n",
              "      <td>...</td>\n",
              "      <td>...</td>\n",
              "      <td>...</td>\n",
              "      <td>...</td>\n",
              "      <td>...</td>\n",
              "      <td>...</td>\n",
              "      <td>...</td>\n",
              "      <td>...</td>\n",
              "      <td>...</td>\n",
              "      <td>...</td>\n",
              "      <td>...</td>\n",
              "      <td>...</td>\n",
              "      <td>...</td>\n",
              "      <td>...</td>\n",
              "      <td>...</td>\n",
              "      <td>...</td>\n",
              "      <td>...</td>\n",
              "      <td>...</td>\n",
              "    </tr>\n",
              "    <tr>\n",
              "      <th>995</th>\n",
              "      <td>12.0</td>\n",
              "      <td>1736.0</td>\n",
              "      <td>3.0</td>\n",
              "      <td>4.0</td>\n",
              "      <td>31.0</td>\n",
              "      <td>1.0</td>\n",
              "      <td>1.0</td>\n",
              "      <td>0.0</td>\n",
              "      <td>0.0</td>\n",
              "      <td>0.0</td>\n",
              "      <td>...</td>\n",
              "      <td>1.0</td>\n",
              "      <td>0.0</td>\n",
              "      <td>0.0</td>\n",
              "      <td>1.0</td>\n",
              "      <td>0.0</td>\n",
              "      <td>0.0</td>\n",
              "      <td>1.0</td>\n",
              "      <td>0.0</td>\n",
              "      <td>1.0</td>\n",
              "      <td>0.0</td>\n",
              "    </tr>\n",
              "    <tr>\n",
              "      <th>996</th>\n",
              "      <td>30.0</td>\n",
              "      <td>3857.0</td>\n",
              "      <td>4.0</td>\n",
              "      <td>4.0</td>\n",
              "      <td>40.0</td>\n",
              "      <td>1.0</td>\n",
              "      <td>1.0</td>\n",
              "      <td>1.0</td>\n",
              "      <td>0.0</td>\n",
              "      <td>0.0</td>\n",
              "      <td>...</td>\n",
              "      <td>1.0</td>\n",
              "      <td>0.0</td>\n",
              "      <td>0.0</td>\n",
              "      <td>0.0</td>\n",
              "      <td>0.0</td>\n",
              "      <td>1.0</td>\n",
              "      <td>0.0</td>\n",
              "      <td>1.0</td>\n",
              "      <td>1.0</td>\n",
              "      <td>0.0</td>\n",
              "    </tr>\n",
              "    <tr>\n",
              "      <th>997</th>\n",
              "      <td>12.0</td>\n",
              "      <td>804.0</td>\n",
              "      <td>4.0</td>\n",
              "      <td>4.0</td>\n",
              "      <td>38.0</td>\n",
              "      <td>1.0</td>\n",
              "      <td>1.0</td>\n",
              "      <td>0.0</td>\n",
              "      <td>0.0</td>\n",
              "      <td>0.0</td>\n",
              "      <td>...</td>\n",
              "      <td>1.0</td>\n",
              "      <td>0.0</td>\n",
              "      <td>0.0</td>\n",
              "      <td>0.0</td>\n",
              "      <td>1.0</td>\n",
              "      <td>0.0</td>\n",
              "      <td>1.0</td>\n",
              "      <td>0.0</td>\n",
              "      <td>1.0</td>\n",
              "      <td>0.0</td>\n",
              "    </tr>\n",
              "    <tr>\n",
              "      <th>998</th>\n",
              "      <td>45.0</td>\n",
              "      <td>1845.0</td>\n",
              "      <td>4.0</td>\n",
              "      <td>4.0</td>\n",
              "      <td>23.0</td>\n",
              "      <td>1.0</td>\n",
              "      <td>1.0</td>\n",
              "      <td>1.0</td>\n",
              "      <td>0.0</td>\n",
              "      <td>0.0</td>\n",
              "      <td>...</td>\n",
              "      <td>0.0</td>\n",
              "      <td>1.0</td>\n",
              "      <td>0.0</td>\n",
              "      <td>0.0</td>\n",
              "      <td>1.0</td>\n",
              "      <td>0.0</td>\n",
              "      <td>0.0</td>\n",
              "      <td>1.0</td>\n",
              "      <td>1.0</td>\n",
              "      <td>0.0</td>\n",
              "    </tr>\n",
              "    <tr>\n",
              "      <th>999</th>\n",
              "      <td>45.0</td>\n",
              "      <td>4576.0</td>\n",
              "      <td>3.0</td>\n",
              "      <td>4.0</td>\n",
              "      <td>27.0</td>\n",
              "      <td>1.0</td>\n",
              "      <td>1.0</td>\n",
              "      <td>0.0</td>\n",
              "      <td>1.0</td>\n",
              "      <td>0.0</td>\n",
              "      <td>...</td>\n",
              "      <td>1.0</td>\n",
              "      <td>0.0</td>\n",
              "      <td>0.0</td>\n",
              "      <td>0.0</td>\n",
              "      <td>1.0</td>\n",
              "      <td>0.0</td>\n",
              "      <td>1.0</td>\n",
              "      <td>0.0</td>\n",
              "      <td>1.0</td>\n",
              "      <td>0.0</td>\n",
              "    </tr>\n",
              "  </tbody>\n",
              "</table>\n",
              "<p>1000 rows × 63 columns</p>\n",
              "</div>\n",
              "      <button class=\"colab-df-convert\" onclick=\"convertToInteractive('df-59a9ed00-ac5c-4501-b57c-4be330e0abbb')\"\n",
              "              title=\"Convert this dataframe to an interactive table.\"\n",
              "              style=\"display:none;\">\n",
              "        \n",
              "  <svg xmlns=\"http://www.w3.org/2000/svg\" height=\"24px\"viewBox=\"0 0 24 24\"\n",
              "       width=\"24px\">\n",
              "    <path d=\"M0 0h24v24H0V0z\" fill=\"none\"/>\n",
              "    <path d=\"M18.56 5.44l.94 2.06.94-2.06 2.06-.94-2.06-.94-.94-2.06-.94 2.06-2.06.94zm-11 1L8.5 8.5l.94-2.06 2.06-.94-2.06-.94L8.5 2.5l-.94 2.06-2.06.94zm10 10l.94 2.06.94-2.06 2.06-.94-2.06-.94-.94-2.06-.94 2.06-2.06.94z\"/><path d=\"M17.41 7.96l-1.37-1.37c-.4-.4-.92-.59-1.43-.59-.52 0-1.04.2-1.43.59L10.3 9.45l-7.72 7.72c-.78.78-.78 2.05 0 2.83L4 21.41c.39.39.9.59 1.41.59.51 0 1.02-.2 1.41-.59l7.78-7.78 2.81-2.81c.8-.78.8-2.07 0-2.86zM5.41 20L4 18.59l7.72-7.72 1.47 1.35L5.41 20z\"/>\n",
              "  </svg>\n",
              "      </button>\n",
              "      \n",
              "  <style>\n",
              "    .colab-df-container {\n",
              "      display:flex;\n",
              "      flex-wrap:wrap;\n",
              "      gap: 12px;\n",
              "    }\n",
              "\n",
              "    .colab-df-convert {\n",
              "      background-color: #E8F0FE;\n",
              "      border: none;\n",
              "      border-radius: 50%;\n",
              "      cursor: pointer;\n",
              "      display: none;\n",
              "      fill: #1967D2;\n",
              "      height: 32px;\n",
              "      padding: 0 0 0 0;\n",
              "      width: 32px;\n",
              "    }\n",
              "\n",
              "    .colab-df-convert:hover {\n",
              "      background-color: #E2EBFA;\n",
              "      box-shadow: 0px 1px 2px rgba(60, 64, 67, 0.3), 0px 1px 3px 1px rgba(60, 64, 67, 0.15);\n",
              "      fill: #174EA6;\n",
              "    }\n",
              "\n",
              "    [theme=dark] .colab-df-convert {\n",
              "      background-color: #3B4455;\n",
              "      fill: #D2E3FC;\n",
              "    }\n",
              "\n",
              "    [theme=dark] .colab-df-convert:hover {\n",
              "      background-color: #434B5C;\n",
              "      box-shadow: 0px 1px 3px 1px rgba(0, 0, 0, 0.15);\n",
              "      filter: drop-shadow(0px 1px 2px rgba(0, 0, 0, 0.3));\n",
              "      fill: #FFFFFF;\n",
              "    }\n",
              "  </style>\n",
              "\n",
              "      <script>\n",
              "        const buttonEl =\n",
              "          document.querySelector('#df-59a9ed00-ac5c-4501-b57c-4be330e0abbb button.colab-df-convert');\n",
              "        buttonEl.style.display =\n",
              "          google.colab.kernel.accessAllowed ? 'block' : 'none';\n",
              "\n",
              "        async function convertToInteractive(key) {\n",
              "          const element = document.querySelector('#df-59a9ed00-ac5c-4501-b57c-4be330e0abbb');\n",
              "          const dataTable =\n",
              "            await google.colab.kernel.invokeFunction('convertToInteractive',\n",
              "                                                     [key], {});\n",
              "          if (!dataTable) return;\n",
              "\n",
              "          const docLinkHtml = 'Like what you see? Visit the ' +\n",
              "            '<a target=\"_blank\" href=https://colab.research.google.com/notebooks/data_table.ipynb>data table notebook</a>'\n",
              "            + ' to learn more about interactive tables.';\n",
              "          element.innerHTML = '';\n",
              "          dataTable['output_type'] = 'display_data';\n",
              "          await google.colab.output.renderOutput(dataTable, element);\n",
              "          const docLink = document.createElement('div');\n",
              "          docLink.innerHTML = docLinkHtml;\n",
              "          element.appendChild(docLink);\n",
              "        }\n",
              "      </script>\n",
              "    </div>\n",
              "  </div>\n",
              "  "
            ]
          },
          "metadata": {},
          "execution_count": 17
        }
      ]
    },
    {
      "cell_type": "code",
      "source": [
        "test_ratio = 0.2\n",
        "\n",
        "X_train, X_test, Y_train, Y_test = train_test_split(Predictors_dummies, \n",
        "                                                    Target, \n",
        "                                                    test_size = test_ratio, \n",
        "                                                    random_state=123)\n",
        "\n",
        "print(X_train.shape)\n",
        "print(X_test.shape)"
      ],
      "metadata": {
        "colab": {
          "base_uri": "https://localhost:8080/"
        },
        "id": "ykyeLYHa2CwJ",
        "outputId": "b9cab7b5-4144-4a03-9956-872aeed6eb52"
      },
      "execution_count": null,
      "outputs": [
        {
          "output_type": "stream",
          "name": "stdout",
          "text": [
            "(800, 63)\n",
            "(200, 63)\n"
          ]
        }
      ]
    },
    {
      "cell_type": "code",
      "source": [
        "Y_test"
      ],
      "metadata": {
        "colab": {
          "base_uri": "https://localhost:8080/"
        },
        "id": "IXCYQMQt4j_Z",
        "outputId": "e9b405e5-267f-4c81-dcd7-a101fb2b4fa3"
      },
      "execution_count": null,
      "outputs": [
        {
          "output_type": "execute_result",
          "data": {
            "text/plain": [
              "131    0\n",
              "203    0\n",
              "50     1\n",
              "585    0\n",
              "138    1\n",
              "      ..\n",
              "79     1\n",
              "177    1\n",
              "657    1\n",
              "210    1\n",
              "381    0\n",
              "Name: class, Length: 200, dtype: int64"
            ]
          },
          "metadata": {},
          "execution_count": 19
        }
      ]
    },
    {
      "cell_type": "code",
      "source": [
        "plt.hist(Target)\n",
        "print(Target_dict)"
      ],
      "metadata": {
        "colab": {
          "base_uri": "https://localhost:8080/",
          "height": 474
        },
        "id": "TiNUWvGX4FFh",
        "outputId": "77cd06b0-83cb-4003-c328-49544d419fdc"
      },
      "execution_count": null,
      "outputs": [
        {
          "output_type": "stream",
          "name": "stdout",
          "text": [
            "{'bad': 0, 'good': 1}\n"
          ]
        },
        {
          "output_type": "display_data",
          "data": {
            "text/plain": [
              "<Figure size 720x540 with 1 Axes>"
            ],
            "image/png": "[encoded data removed]"
          },
          "metadata": {}
        }
      ]
    },
    {
      "cell_type": "markdown",
      "source": [
        "# Logistic Regression"
      ],
      "metadata": {
        "id": "yNs2ChpeBK4a"
      }
    },
    {
      "cell_type": "code",
      "source": [
        "from sklearn.linear_model import LogisticRegression, LogisticRegressionCV"
      ],
      "metadata": {
        "id": "ffLSRZYa4KXA"
      },
      "execution_count": null,
      "outputs": []
    },
    {
      "cell_type": "code",
      "source": [
        "model_logistic = LogisticRegressionCV(cv = 5)\n",
        "model_logistic.fit(X_train, Y_train)\n",
        "model_logistic.score(X_train, Y_train)"
      ],
      "metadata": {
        "colab": {
          "base_uri": "https://localhost:8080/"
        },
        "id": "_EFznFtL4b55",
        "outputId": "ed163f5a-d62d-4bcd-c2b1-5bb167f2d3ea"
      },
      "execution_count": null,
      "outputs": [
        {
          "output_type": "stream",
          "name": "stderr",
          "text": [
            "/usr/local/lib/python3.7/dist-packages/sklearn/linear_model/_logistic.py:818: ConvergenceWarning: lbfgs failed to converge (status=1):\n",
            "STOP: TOTAL NO. of ITERATIONS REACHED LIMIT.\n",
            "\n",
            "Increase the number of iterations (max_iter) or scale the data as shown in:\n",
            "    https://scikit-learn.org/stable/modules/preprocessing.html\n",
            "Please also refer to the documentation for alternative solver options:\n",
            "    https://scikit-learn.org/stable/modules/linear_model.html#logistic-regression\n",
            "  extra_warning_msg=_LOGISTIC_SOLVER_CONVERGENCE_MSG,\n",
            "/usr/local/lib/python3.7/dist-packages/sklearn/linear_model/_logistic.py:818: ConvergenceWarning: lbfgs failed to converge (status=1):\n",
            "STOP: TOTAL NO. of ITERATIONS REACHED LIMIT.\n",
            "\n",
            "Increase the number of iterations (max_iter) or scale the data as shown in:\n",
            "    https://scikit-learn.org/stable/modules/preprocessing.html\n",
            "Please also refer to the documentation for alternative solver options:\n",
            "    https://scikit-learn.org/stable/modules/linear_model.html#logistic-regression\n",
            "  extra_warning_msg=_LOGISTIC_SOLVER_CONVERGENCE_MSG,\n",
            "/usr/local/lib/python3.7/dist-packages/sklearn/linear_model/_logistic.py:818: ConvergenceWarning: lbfgs failed to converge (status=1):\n",
            "STOP: TOTAL NO. of ITERATIONS REACHED LIMIT.\n",
            "\n",
            "Increase the number of iterations (max_iter) or scale the data as shown in:\n",
            "    https://scikit-learn.org/stable/modules/preprocessing.html\n",
            "Please also refer to the documentation for alternative solver options:\n",
            "    https://scikit-learn.org/stable/modules/linear_model.html#logistic-regression\n",
            "  extra_warning_msg=_LOGISTIC_SOLVER_CONVERGENCE_MSG,\n",
            "/usr/local/lib/python3.7/dist-packages/sklearn/linear_model/_logistic.py:818: ConvergenceWarning: lbfgs failed to converge (status=1):\n",
            "STOP: TOTAL NO. of ITERATIONS REACHED LIMIT.\n",
            "\n",
            "Increase the number of iterations (max_iter) or scale the data as shown in:\n",
            "    https://scikit-learn.org/stable/modules/preprocessing.html\n",
            "Please also refer to the documentation for alternative solver options:\n",
            "    https://scikit-learn.org/stable/modules/linear_model.html#logistic-regression\n",
            "  extra_warning_msg=_LOGISTIC_SOLVER_CONVERGENCE_MSG,\n",
            "/usr/local/lib/python3.7/dist-packages/sklearn/linear_model/_logistic.py:818: ConvergenceWarning: lbfgs failed to converge (status=1):\n",
            "STOP: TOTAL NO. of ITERATIONS REACHED LIMIT.\n",
            "\n",
            "Increase the number of iterations (max_iter) or scale the data as shown in:\n",
            "    https://scikit-learn.org/stable/modules/preprocessing.html\n",
            "Please also refer to the documentation for alternative solver options:\n",
            "    https://scikit-learn.org/stable/modules/linear_model.html#logistic-regression\n",
            "  extra_warning_msg=_LOGISTIC_SOLVER_CONVERGENCE_MSG,\n",
            "/usr/local/lib/python3.7/dist-packages/sklearn/linear_model/_logistic.py:818: ConvergenceWarning: lbfgs failed to converge (status=1):\n",
            "STOP: TOTAL NO. of ITERATIONS REACHED LIMIT.\n",
            "\n",
            "Increase the number of iterations (max_iter) or scale the data as shown in:\n",
            "    https://scikit-learn.org/stable/modules/preprocessing.html\n",
            "Please also refer to the documentation for alternative solver options:\n",
            "    https://scikit-learn.org/stable/modules/linear_model.html#logistic-regression\n",
            "  extra_warning_msg=_LOGISTIC_SOLVER_CONVERGENCE_MSG,\n"
          ]
        },
        {
          "output_type": "execute_result",
          "data": {
            "text/plain": [
              "0.77375"
            ]
          },
          "metadata": {},
          "execution_count": 22
        }
      ]
    },
    {
      "cell_type": "code",
      "source": [
        "preds = model_logistic.predict(X_test)\n",
        "confusion_matrix(Y_test, preds)"
      ],
      "metadata": {
        "colab": {
          "base_uri": "https://localhost:8080/"
        },
        "id": "I8R0zI365n4R",
        "outputId": "26182bdb-3661-43dc-afe3-dc5a650a6e72"
      },
      "execution_count": null,
      "outputs": [
        {
          "output_type": "execute_result",
          "data": {
            "text/plain": [
              "array([[ 37,  24],\n",
              "       [ 19, 120]])"
            ]
          },
          "metadata": {},
          "execution_count": 23
        }
      ]
    },
    {
      "cell_type": "code",
      "source": [
        "print(classification_report(Y_test, preds, target_names = unique_targets))"
      ],
      "metadata": {
        "colab": {
          "base_uri": "https://localhost:8080/"
        },
        "id": "yoe355j45tYp",
        "outputId": "ee3e7b96-ef3e-4406-900f-56bc88fad21f"
      },
      "execution_count": null,
      "outputs": [
        {
          "output_type": "stream",
          "name": "stdout",
          "text": [
            "              precision    recall  f1-score   support\n",
            "\n",
            "         bad       0.66      0.61      0.63        61\n",
            "        good       0.83      0.86      0.85       139\n",
            "\n",
            "    accuracy                           0.79       200\n",
            "   macro avg       0.75      0.73      0.74       200\n",
            "weighted avg       0.78      0.79      0.78       200\n",
            "\n"
          ]
        }
      ]
    },
    {
      "cell_type": "code",
      "source": [
        "a = classification_report(Y_test, preds, target_names = unique_targets)"
      ],
      "metadata": {
        "id": "KlVJv9SuPfdl"
      },
      "execution_count": null,
      "outputs": []
    },
    {
      "cell_type": "code",
      "source": [
        "index = a.find(\"macro avg\")\n",
        "output_macroavg = float(a[index+16:index+20])\n",
        "if(output_macroavg >= 0.75):\n",
        "  print(\"Test passed\")\n",
        "else:\n",
        "  print(\"Test is not passed\")"
      ],
      "metadata": {
        "colab": {
          "base_uri": "https://localhost:8080/"
        },
        "id": "legEgCAnY8m0",
        "outputId": "fc86826c-bc03-4fc7-e415-53f0a3f9b9b1"
      },
      "execution_count": null,
      "outputs": [
        {
          "output_type": "stream",
          "name": "stdout",
          "text": [
            "Test passed\n"
          ]
        }
      ]
    },
    {
      "cell_type": "markdown",
      "source": [
        "# KNN (k-nearest neighbors method)"
      ],
      "metadata": {
        "id": "2QT-P2VxaWfs"
      }
    },
    {
      "cell_type": "code",
      "source": [
        "from sklearn.neighbors import KNeighborsClassifier"
      ],
      "metadata": {
        "id": "-hDVvwIHZ8Z7"
      },
      "execution_count": null,
      "outputs": []
    },
    {
      "cell_type": "code",
      "source": [
        "number_of_neighbors = np.arange(3, 25, 2)\n",
        "model_KNN = KNeighborsClassifier()\n",
        "params = {\"n_neighbors\": number_of_neighbors}\n",
        "\n",
        "grid_search = GridSearchCV(estimator = model_KNN, \n",
        "                           param_grid = params, cv = 6, scoring = \"f1_macro\")"
      ],
      "metadata": {
        "id": "xI9E-IxzaoYK"
      },
      "execution_count": null,
      "outputs": []
    },
    {
      "cell_type": "code",
      "source": [
        "grid_search.fit(X_train, Y_train)"
      ],
      "metadata": {
        "colab": {
          "base_uri": "https://localhost:8080/"
        },
        "id": "bWbC2upbaokK",
        "outputId": "7c4e69a8-6939-459c-af68-1ce049cee2d6"
      },
      "execution_count": null,
      "outputs": [
        {
          "output_type": "execute_result",
          "data": {
            "text/plain": [
              "GridSearchCV(cv=6, estimator=KNeighborsClassifier(),\n",
              "             param_grid={'n_neighbors': array([ 3,  5,  7,  9, 11, 13, 15, 17, 19, 21, 23])},\n",
              "             scoring='f1_macro')"
            ]
          },
          "metadata": {},
          "execution_count": 29
        }
      ]
    },
    {
      "cell_type": "code",
      "source": [
        "grid_search.best_score_"
      ],
      "metadata": {
        "colab": {
          "base_uri": "https://localhost:8080/"
        },
        "id": "UOC_2Vr4a0ND",
        "outputId": "da068fd7-21a3-4c2e-b753-1c7b774850dd"
      },
      "execution_count": null,
      "outputs": [
        {
          "output_type": "execute_result",
          "data": {
            "text/plain": [
              "0.5335039681576155"
            ]
          },
          "metadata": {},
          "execution_count": 30
        }
      ]
    },
    {
      "cell_type": "code",
      "source": [
        "grid_search.best_estimator_"
      ],
      "metadata": {
        "colab": {
          "base_uri": "https://localhost:8080/"
        },
        "id": "_eRlb_Ima2Dr",
        "outputId": "2379020e-c79f-4734-f170-060474e34967"
      },
      "execution_count": null,
      "outputs": [
        {
          "output_type": "execute_result",
          "data": {
            "text/plain": [
              "KNeighborsClassifier(n_neighbors=3)"
            ]
          },
          "metadata": {},
          "execution_count": 31
        }
      ]
    },
    {
      "cell_type": "code",
      "source": [
        "preds_knn = grid_search.predict(X_test)"
      ],
      "metadata": {
        "id": "ZzyHcaofa_Aq"
      },
      "execution_count": null,
      "outputs": []
    },
    {
      "cell_type": "code",
      "source": [
        "confusion_matrix(Y_test, preds_knn)"
      ],
      "metadata": {
        "colab": {
          "base_uri": "https://localhost:8080/"
        },
        "id": "yyFGGPz9a2QT",
        "outputId": "e281a9ca-b126-42f1-c91f-2adcc2a82ac1"
      },
      "execution_count": null,
      "outputs": [
        {
          "output_type": "execute_result",
          "data": {
            "text/plain": [
              "array([[ 18,  43],\n",
              "       [ 32, 107]])"
            ]
          },
          "metadata": {},
          "execution_count": 33
        }
      ]
    },
    {
      "cell_type": "code",
      "source": [
        "print(classification_report(Y_test, preds_knn))"
      ],
      "metadata": {
        "colab": {
          "base_uri": "https://localhost:8080/"
        },
        "id": "_5Es_imOa4vp",
        "outputId": "8c7f41ce-945e-4672-e00f-15aa471beea8"
      },
      "execution_count": null,
      "outputs": [
        {
          "output_type": "stream",
          "name": "stdout",
          "text": [
            "              precision    recall  f1-score   support\n",
            "\n",
            "           0       0.36      0.30      0.32        61\n",
            "           1       0.71      0.77      0.74       139\n",
            "\n",
            "    accuracy                           0.62       200\n",
            "   macro avg       0.54      0.53      0.53       200\n",
            "weighted avg       0.61      0.62      0.61       200\n",
            "\n"
          ]
        }
      ]
    },
    {
      "cell_type": "markdown",
      "source": [
        "# SVM (support vector machine)"
      ],
      "metadata": {
        "id": "oNPVmfMCbIoU"
      }
    },
    {
      "cell_type": "code",
      "source": [
        "from sklearn.svm import SVC\n",
        "line_param = np.linspace(1, 20, 100)\n",
        "parameters = {'kernel': ['rbf'], 'C':line_param}\n",
        "model = SVC()\n",
        "grid_search_svm = GridSearchCV(estimator=model, param_grid=parameters, cv = 6)\n",
        "grid_search_svm.fit(X_train, Y_train)\n",
        "grid_search_svm.best_score_"
      ],
      "metadata": {
        "colab": {
          "base_uri": "https://localhost:8080/"
        },
        "id": "CKz1UDDKbN2b",
        "outputId": "bf1eb3f5-0c93-4548-db07-adc6906c520d"
      },
      "execution_count": null,
      "outputs": [
        {
          "output_type": "execute_result",
          "data": {
            "text/plain": [
              "0.7087588373919874"
            ]
          },
          "metadata": {},
          "execution_count": 35
        }
      ]
    },
    {
      "cell_type": "code",
      "source": [
        "grid_search_svm.best_estimator_"
      ],
      "metadata": {
        "colab": {
          "base_uri": "https://localhost:8080/"
        },
        "id": "FNYDa7EtcHCa",
        "outputId": "34eb06bb-e2da-44e3-acdb-66c0e8253124"
      },
      "execution_count": null,
      "outputs": [
        {
          "output_type": "execute_result",
          "data": {
            "text/plain": [
              "SVC(C=8.1010101010101)"
            ]
          },
          "metadata": {},
          "execution_count": 36
        }
      ]
    },
    {
      "cell_type": "code",
      "source": [
        "preds_svm = grid_search_svm.predict(X_test)"
      ],
      "metadata": {
        "id": "nb2-iPjRci-S"
      },
      "execution_count": null,
      "outputs": []
    },
    {
      "cell_type": "code",
      "source": [
        "confusion_matrix(Y_test, preds_svm)"
      ],
      "metadata": {
        "colab": {
          "base_uri": "https://localhost:8080/"
        },
        "id": "WcoDSx3Kckiy",
        "outputId": "a04a7576-da45-415c-cd1a-ad7696c94055"
      },
      "execution_count": null,
      "outputs": [
        {
          "output_type": "execute_result",
          "data": {
            "text/plain": [
              "array([[  6,  55],\n",
              "       [  3, 136]])"
            ]
          },
          "metadata": {},
          "execution_count": 38
        }
      ]
    },
    {
      "cell_type": "code",
      "source": [
        "print(classification_report(Y_test, preds_svm, target_names = unique_targets))"
      ],
      "metadata": {
        "colab": {
          "base_uri": "https://localhost:8080/"
        },
        "id": "k-KHxaKncrSc",
        "outputId": "f2de3a41-c974-4987-bb64-6eec91f48ed2"
      },
      "execution_count": null,
      "outputs": [
        {
          "output_type": "stream",
          "name": "stdout",
          "text": [
            "              precision    recall  f1-score   support\n",
            "\n",
            "         bad       0.67      0.10      0.17        61\n",
            "        good       0.71      0.98      0.82       139\n",
            "\n",
            "    accuracy                           0.71       200\n",
            "   macro avg       0.69      0.54      0.50       200\n",
            "weighted avg       0.70      0.71      0.63       200\n",
            "\n"
          ]
        }
      ]
    }
  ]
}